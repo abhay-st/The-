{
 "cells": [
  {
   "cell_type": "markdown",
   "metadata": {},
   "source": [
    "# Importing Libraries and Data "
   ]
  },
  {
   "cell_type": "code",
   "execution_count": 1,
   "metadata": {},
   "outputs": [],
   "source": [
    "import pandas as pd\n",
    "import matplotlib.pyplot as plt"
   ]
  },
  {
   "cell_type": "code",
   "execution_count": 2,
   "metadata": {},
   "outputs": [],
   "source": [
    "data = pd.read_csv(r\"C:\\Users\\Abhay\\Desktop\\SampleSuperstore.csv\")"
   ]
  },
  {
   "cell_type": "code",
   "execution_count": 3,
   "metadata": {},
   "outputs": [
    {
     "data": {
      "text/html": [
       "<div>\n",
       "<style scoped>\n",
       "    .dataframe tbody tr th:only-of-type {\n",
       "        vertical-align: middle;\n",
       "    }\n",
       "\n",
       "    .dataframe tbody tr th {\n",
       "        vertical-align: top;\n",
       "    }\n",
       "\n",
       "    .dataframe thead th {\n",
       "        text-align: right;\n",
       "    }\n",
       "</style>\n",
       "<table border=\"1\" class=\"dataframe\">\n",
       "  <thead>\n",
       "    <tr style=\"text-align: right;\">\n",
       "      <th></th>\n",
       "      <th>Ship Mode</th>\n",
       "      <th>Segment</th>\n",
       "      <th>Country</th>\n",
       "      <th>City</th>\n",
       "      <th>State</th>\n",
       "      <th>Postal Code</th>\n",
       "      <th>Region</th>\n",
       "      <th>Category</th>\n",
       "      <th>Sub-Category</th>\n",
       "      <th>Sales</th>\n",
       "      <th>Quantity</th>\n",
       "      <th>Discount</th>\n",
       "      <th>Profit</th>\n",
       "    </tr>\n",
       "  </thead>\n",
       "  <tbody>\n",
       "    <tr>\n",
       "      <th>0</th>\n",
       "      <td>Second Class</td>\n",
       "      <td>Consumer</td>\n",
       "      <td>United States</td>\n",
       "      <td>Henderson</td>\n",
       "      <td>Kentucky</td>\n",
       "      <td>42420</td>\n",
       "      <td>South</td>\n",
       "      <td>Furniture</td>\n",
       "      <td>Bookcases</td>\n",
       "      <td>261.9600</td>\n",
       "      <td>2</td>\n",
       "      <td>0.00</td>\n",
       "      <td>41.9136</td>\n",
       "    </tr>\n",
       "    <tr>\n",
       "      <th>1</th>\n",
       "      <td>Second Class</td>\n",
       "      <td>Consumer</td>\n",
       "      <td>United States</td>\n",
       "      <td>Henderson</td>\n",
       "      <td>Kentucky</td>\n",
       "      <td>42420</td>\n",
       "      <td>South</td>\n",
       "      <td>Furniture</td>\n",
       "      <td>Chairs</td>\n",
       "      <td>731.9400</td>\n",
       "      <td>3</td>\n",
       "      <td>0.00</td>\n",
       "      <td>219.5820</td>\n",
       "    </tr>\n",
       "    <tr>\n",
       "      <th>2</th>\n",
       "      <td>Second Class</td>\n",
       "      <td>Corporate</td>\n",
       "      <td>United States</td>\n",
       "      <td>Los Angeles</td>\n",
       "      <td>California</td>\n",
       "      <td>90036</td>\n",
       "      <td>West</td>\n",
       "      <td>Office Supplies</td>\n",
       "      <td>Labels</td>\n",
       "      <td>14.6200</td>\n",
       "      <td>2</td>\n",
       "      <td>0.00</td>\n",
       "      <td>6.8714</td>\n",
       "    </tr>\n",
       "    <tr>\n",
       "      <th>3</th>\n",
       "      <td>Standard Class</td>\n",
       "      <td>Consumer</td>\n",
       "      <td>United States</td>\n",
       "      <td>Fort Lauderdale</td>\n",
       "      <td>Florida</td>\n",
       "      <td>33311</td>\n",
       "      <td>South</td>\n",
       "      <td>Furniture</td>\n",
       "      <td>Tables</td>\n",
       "      <td>957.5775</td>\n",
       "      <td>5</td>\n",
       "      <td>0.45</td>\n",
       "      <td>-383.0310</td>\n",
       "    </tr>\n",
       "    <tr>\n",
       "      <th>4</th>\n",
       "      <td>Standard Class</td>\n",
       "      <td>Consumer</td>\n",
       "      <td>United States</td>\n",
       "      <td>Fort Lauderdale</td>\n",
       "      <td>Florida</td>\n",
       "      <td>33311</td>\n",
       "      <td>South</td>\n",
       "      <td>Office Supplies</td>\n",
       "      <td>Storage</td>\n",
       "      <td>22.3680</td>\n",
       "      <td>2</td>\n",
       "      <td>0.20</td>\n",
       "      <td>2.5164</td>\n",
       "    </tr>\n",
       "  </tbody>\n",
       "</table>\n",
       "</div>"
      ],
      "text/plain": [
       "        Ship Mode    Segment        Country             City       State  \\\n",
       "0    Second Class   Consumer  United States        Henderson    Kentucky   \n",
       "1    Second Class   Consumer  United States        Henderson    Kentucky   \n",
       "2    Second Class  Corporate  United States      Los Angeles  California   \n",
       "3  Standard Class   Consumer  United States  Fort Lauderdale     Florida   \n",
       "4  Standard Class   Consumer  United States  Fort Lauderdale     Florida   \n",
       "\n",
       "   Postal Code Region         Category Sub-Category     Sales  Quantity  \\\n",
       "0        42420  South        Furniture    Bookcases  261.9600         2   \n",
       "1        42420  South        Furniture       Chairs  731.9400         3   \n",
       "2        90036   West  Office Supplies       Labels   14.6200         2   \n",
       "3        33311  South        Furniture       Tables  957.5775         5   \n",
       "4        33311  South  Office Supplies      Storage   22.3680         2   \n",
       "\n",
       "   Discount    Profit  \n",
       "0      0.00   41.9136  \n",
       "1      0.00  219.5820  \n",
       "2      0.00    6.8714  \n",
       "3      0.45 -383.0310  \n",
       "4      0.20    2.5164  "
      ]
     },
     "execution_count": 3,
     "metadata": {},
     "output_type": "execute_result"
    }
   ],
   "source": [
    "data.head()"
   ]
  },
  {
   "cell_type": "code",
   "execution_count": 4,
   "metadata": {},
   "outputs": [
    {
     "data": {
      "text/plain": [
       "['Kentucky',\n",
       " 'California',\n",
       " 'Florida',\n",
       " 'North Carolina',\n",
       " 'Washington',\n",
       " 'Texas',\n",
       " 'Wisconsin',\n",
       " 'Utah',\n",
       " 'Nebraska',\n",
       " 'Pennsylvania',\n",
       " 'Illinois',\n",
       " 'Minnesota',\n",
       " 'Michigan',\n",
       " 'Delaware',\n",
       " 'Indiana',\n",
       " 'New York',\n",
       " 'Arizona',\n",
       " 'Virginia',\n",
       " 'Tennessee',\n",
       " 'Alabama',\n",
       " 'South Carolina',\n",
       " 'Oregon',\n",
       " 'Colorado',\n",
       " 'Iowa',\n",
       " 'Ohio',\n",
       " 'Missouri',\n",
       " 'Oklahoma',\n",
       " 'New Mexico',\n",
       " 'Louisiana',\n",
       " 'Connecticut',\n",
       " 'New Jersey',\n",
       " 'Massachusetts',\n",
       " 'Georgia',\n",
       " 'Nevada',\n",
       " 'Rhode Island',\n",
       " 'Mississippi',\n",
       " 'Arkansas',\n",
       " 'Montana',\n",
       " 'New Hampshire',\n",
       " 'Maryland',\n",
       " 'District of Columbia',\n",
       " 'Kansas',\n",
       " 'Vermont',\n",
       " 'Maine',\n",
       " 'South Dakota',\n",
       " 'Idaho',\n",
       " 'North Dakota',\n",
       " 'Wyoming',\n",
       " 'West Virginia']"
      ]
     },
     "execution_count": 4,
     "metadata": {},
     "output_type": "execute_result"
    }
   ],
   "source": [
    "a = []\n",
    "i = 0\n",
    "for i in range(9994):\n",
    "    if data[\"State\"].iloc[i] not in a:\n",
    "        a.append(data[\"State\"].iloc[i])\n",
    "a"
   ]
  },
  {
   "cell_type": "markdown",
   "metadata": {},
   "source": [
    "# Segregating the Data based on Shipping Mode"
   ]
  },
  {
   "cell_type": "code",
   "execution_count": 6,
   "metadata": {},
   "outputs": [],
   "source": [
    "second_class = data[data[\"Ship Mode\"]==\"Second Class\"]"
   ]
  },
  {
   "cell_type": "code",
   "execution_count": 7,
   "metadata": {},
   "outputs": [],
   "source": [
    "standard_class = data[data[\"Ship Mode\"]==\"Standard Class\"]"
   ]
  },
  {
   "cell_type": "code",
   "execution_count": 8,
   "metadata": {},
   "outputs": [],
   "source": [
    "first_class = data[data[\"Ship Mode\"]==\"First Class\"]"
   ]
  },
  {
   "cell_type": "code",
   "execution_count": 9,
   "metadata": {},
   "outputs": [],
   "source": [
    "same_day = data[data[\"Ship Mode\"]==\"Same Day\"]"
   ]
  },
  {
   "cell_type": "markdown",
   "metadata": {},
   "source": [
    "# Segregating the Data based on Segment"
   ]
  },
  {
   "cell_type": "code",
   "execution_count": 10,
   "metadata": {},
   "outputs": [],
   "source": [
    "consumer = data[data[\"Segment\"]==\"Consumer\"]"
   ]
  },
  {
   "cell_type": "code",
   "execution_count": 11,
   "metadata": {},
   "outputs": [],
   "source": [
    "corporate = data[data[\"Segment\"]==\"Corporate\"]"
   ]
  },
  {
   "cell_type": "code",
   "execution_count": 12,
   "metadata": {},
   "outputs": [],
   "source": [
    "home_office = data[data[\"Segment\"]==\"Home Office\"]"
   ]
  },
  {
   "cell_type": "code",
   "execution_count": 13,
   "metadata": {},
   "outputs": [
    {
     "name": "stdout",
     "output_type": "stream",
     "text": [
      "Second Class Average Profit: 29.535545192802047\n",
      "Standard Class Average Profit: 27.494770023458393\n",
      "First Class Average Profit: 31.839947919375827\n",
      "Same Day Average Profit: 29.26659097605891\n"
     ]
    }
   ],
   "source": [
    "print(\"Second Class Average Profit: \"+str(second_class.Profit.mean()))\n",
    "print(\"Standard Class Average Profit: \"+str(standard_class.Profit.mean()))\n",
    "print(\"First Class Average Profit: \"+str(first_class.Profit.mean()))\n",
    "print(\"Same Day Average Profit: \"+str(same_day.Profit.mean()))\n",
    "\n",
    "# No Significant difference between average profit figures of different classes"
   ]
  },
  {
   "cell_type": "code",
   "execution_count": 14,
   "metadata": {},
   "outputs": [
    {
     "name": "stdout",
     "output_type": "stream",
     "text": [
      "Second Class Average Sales: 236.08923876606673\n",
      "Standard Class Average Sales: 227.58306685656544\n",
      "First Class Average Sales: 228.49702399219777\n",
      "Same Day Average Sales: 236.39617863720073\n"
     ]
    }
   ],
   "source": [
    "print(\"Second Class Average Sales: \"+str(second_class.Sales.mean()))\n",
    "print(\"Standard Class Average Sales: \"+str(standard_class.Sales.mean()))\n",
    "print(\"First Class Average Sales: \"+str(first_class.Sales.mean()))\n",
    "print(\"Same Day Average Sales: \"+str(same_day.Sales.mean()))\n",
    "\n",
    "# No Significant difference between average sales figures of different classes"
   ]
  },
  {
   "cell_type": "code",
   "execution_count": 15,
   "metadata": {},
   "outputs": [
    {
     "name": "stdout",
     "output_type": "stream",
     "text": [
      "Consumer Average Profit: 25.83687328067804\n",
      "Corporate Average Profit: 30.45666688741729\n",
      "Home Office Average Profit: 33.818664329781306\n"
     ]
    }
   ],
   "source": [
    "print(\"Consumer Average Profit: \"+str(consumer.Profit.mean()))\n",
    "print(\"Corporate Average Profit: \"+str(corporate.Profit.mean()))\n",
    "print(\"Home Office Average Profit: \"+str(home_office.Profit.mean()))\n"
   ]
  },
  {
   "cell_type": "code",
   "execution_count": 16,
   "metadata": {},
   "outputs": [
    {
     "name": "stdout",
     "output_type": "stream",
     "text": [
      "Consumer Average Sales: 223.73364380658617\n",
      "Corporate Average Sales: 233.8233002649007\n",
      "Home Office Average Sales: 240.97204066180612\n"
     ]
    }
   ],
   "source": [
    "print(\"Consumer Average Sales: \"+str(consumer.Sales.mean()))\n",
    "print(\"Corporate Average Sales: \"+str(corporate.Sales.mean()))\n",
    "print(\"Home Office Average Sales: \"+str(home_office.Sales.mean()))\n"
   ]
  },
  {
   "cell_type": "markdown",
   "metadata": {},
   "source": [
    "# Plot between the different categories and Profits it yielded"
   ]
  },
  {
   "cell_type": "code",
   "execution_count": 17,
   "metadata": {},
   "outputs": [
    {
     "data": {
      "text/plain": [
       "<matplotlib.collections.PathCollection at 0x28c7c9d2a20>"
      ]
     },
     "execution_count": 17,
     "metadata": {},
     "output_type": "execute_result"
    },
    {
     "data": {
      "image/png": "[encoded data removed]",
      "text/plain": [
       "<matplotlib.figure.Figure at 0x28c7c8da7b8>"
      ]
     },
     "metadata": {},
     "output_type": "display_data"
    }
   ],
   "source": [
    "plt.scatter(data.Category,data.Profit)\n",
    "\n",
    "# We can infer that Furniture doesnt yeild great amounts of profit, whereas Technology has yeilded great profits and terrible losses too"
   ]
  },
  {
   "cell_type": "markdown",
   "metadata": {},
   "source": [
    "# Technology has yielded great amounts of profit but has also incurred losses, so we analyse it further"
   ]
  },
  {
   "cell_type": "code",
   "execution_count": 18,
   "metadata": {},
   "outputs": [
    {
     "data": {
      "text/plain": [
       "<matplotlib.collections.PathCollection at 0x28c7ca5bf60>"
      ]
     },
     "execution_count": 18,
     "metadata": {},
     "output_type": "execute_result"
    },
    {
     "data": {
      "image/png": "[encoded data removed]",
      "text/plain": [
       "<matplotlib.figure.Figure at 0x28c7c91c588>"
      ]
     },
     "metadata": {},
     "output_type": "display_data"
    }
   ],
   "source": [
    "plt.scatter(data[data[\"Category\"]==\"Technology\"][\"Sub-Category\"],data[data[\"Category\"]==\"Technology\"][\"Profit\"])"
   ]
  },
  {
   "cell_type": "code",
   "execution_count": 19,
   "metadata": {},
   "outputs": [
    {
     "data": {
      "text/plain": [
       "29.432668695652165"
      ]
     },
     "execution_count": 19,
     "metadata": {},
     "output_type": "execute_result"
    }
   ],
   "source": [
    "data[data[\"Sub-Category\"]==\"Machines\"].Profit.mean()\n",
    "\n",
    "#For Machines, average profit = 29.43"
   ]
  },
  {
   "cell_type": "code",
   "execution_count": 20,
   "metadata": {},
   "outputs": [
    {
     "data": {
      "text/plain": [
       "817.9091897058825"
      ]
     },
     "execution_count": 20,
     "metadata": {},
     "output_type": "execute_result"
    }
   ],
   "source": [
    "data[data[\"Sub-Category\"]==\"Copiers\"].Profit.mean()\n",
    "\n",
    "#For Copiers, average profit = 817.91"
   ]
  },
  {
   "cell_type": "code",
   "execution_count": 21,
   "metadata": {},
   "outputs": [
    {
     "data": {
      "text/plain": [
       "50.073937682789655"
      ]
     },
     "execution_count": 21,
     "metadata": {},
     "output_type": "execute_result"
    }
   ],
   "source": [
    "data[data[\"Sub-Category\"]==\"Phones\"].Profit.mean()\n",
    "\n",
    "#For Phones, average profit = 50.07"
   ]
  },
  {
   "cell_type": "code",
   "execution_count": 22,
   "metadata": {},
   "outputs": [
    {
     "data": {
      "text/plain": [
       "54.11178799999991"
      ]
     },
     "execution_count": 22,
     "metadata": {},
     "output_type": "execute_result"
    }
   ],
   "source": [
    "data[data[\"Sub-Category\"]==\"Accessories\"].Profit.mean()\n",
    "\n",
    "#For Accessories, average profit = 54.11"
   ]
  },
  {
   "cell_type": "markdown",
   "metadata": {},
   "source": [
    "# Plot between The Sub Categories of Technology and Profit"
   ]
  },
  {
   "cell_type": "code",
   "execution_count": 23,
   "metadata": {},
   "outputs": [
    {
     "data": {
      "text/plain": [
       "[<matplotlib.lines.Line2D at 0x28c7dca9a90>]"
      ]
     },
     "execution_count": 23,
     "metadata": {},
     "output_type": "execute_result"
    },
    {
     "data": {
      "image/png": "[encoded data removed]",
      "text/plain": [
       "<matplotlib.figure.Figure at 0x28c7c91c898>"
      ]
     },
     "metadata": {},
     "output_type": "display_data"
    }
   ],
   "source": [
    "plt.plot([\"Accessories\",\"Copiers\",\"Machines\",\"Phones\"],[data[data[\"Sub-Category\"]==\"Machines\"].Profit.mean(),data[data[\"Sub-Category\"]==\"Copiers\"].Profit.mean(),data[data[\"Sub-Category\"]==\"Phones\"].Profit.mean(),data[data[\"Sub-Category\"]==\"Accessories\"].Profit.mean()])\n",
    "\n",
    "#Copiers yield a great aount of Profit."
   ]
  },
  {
   "cell_type": "code",
   "execution_count": 25,
   "metadata": {},
   "outputs": [],
   "source": [
    "def category():\n",
    "    category = input(\"Enter Category: \")\n",
    "    yesorno = input(\"Want to analyse with state? \")\n",
    "    if yesorno == \"yes\":\n",
    "        state = input(\"Enter State: \")\n",
    "        data_category = data[data[\"Category\"]==category]\n",
    "        data_state = data_category[data_category[\"State\"]==state]\n",
    "        print(data_state[\"Sub-Category\"].value_counts())\n",
    "        net_profit = data_state.Profit.sum()\n",
    "        print(\"Net Profit: \"+str(net_profit))\n",
    "        total_quantity = data_state[\"Quantity\"].sum()\n",
    "        print(\"Net Profit per Quantity: \"+str(net_profit/total_quantity))\n",
    "    else:\n",
    "        data_category = data[data[\"Category\"]==category]\n",
    "        print(data_category[\"Sub-Category\"].value_counts()) \n",
    "        net_profit = data_category.Profit.sum()\n",
    "        print(\"Net Profit: \"+str(net_profit))\n",
    "        total_quantity = data_category[\"Quantity\"].sum()\n",
    "        print(\"Net Profit per Quantity: \"+str(net_profit/total_quantity))"
   ]
  },
  {
   "cell_type": "code",
   "execution_count": 26,
   "metadata": {},
   "outputs": [],
   "source": [
    "def category_(category,state):\n",
    "        data_category = data[data[\"Category\"]==category]\n",
    "        data_state = data_category[data_category[\"State\"]==state]\n",
    "        print(data_state[\"Sub-Category\"].value_counts())\n",
    "        \n",
    "       "
   ]
  },
  {
   "cell_type": "code",
   "execution_count": 41,
   "metadata": {},
   "outputs": [
    {
     "name": "stdout",
     "output_type": "stream",
     "text": [
      "Enter Category: Furniture\n",
      "Want to analyse with state? no\n",
      "Furnishings    957\n",
      "Chairs         617\n",
      "Tables         319\n",
      "Bookcases      228\n",
      "Name: Sub-Category, dtype: int64\n",
      "Net Profit: 18451.272800000006\n",
      "Net Profit per Quantity: 2.298364823119084\n"
     ]
    }
   ],
   "source": [
    "category()"
   ]
  },
  {
   "cell_type": "code",
   "execution_count": 28,
   "metadata": {},
   "outputs": [
    {
     "data": {
      "text/plain": [
       "Office Supplies    6026\n",
       "Furniture          2121\n",
       "Technology         1847\n",
       "Name: Category, dtype: int64"
      ]
     },
     "execution_count": 28,
     "metadata": {},
     "output_type": "execute_result"
    }
   ],
   "source": [
    "data.Category.value_counts()"
   ]
  },
  {
   "cell_type": "code",
   "execution_count": 37,
   "metadata": {},
   "outputs": [],
   "source": [
    "def category_overview(category):\n",
    "    b= []\n",
    "    for i in range(49):\n",
    "        state = a[i]\n",
    "        data_category = data[data[\"Category\"]==category]\n",
    "        data_state = data_category[data_category[\"State\"]==state]\n",
    "        net_profit = data_state.Profit.sum()\n",
    "        total_quantity = data_state[\"Quantity\"].sum()\n",
    "        net_profit_per_quantity = net_profit/total_quantity\n",
    "        b.append(net_profit_per_quantity)\n",
    "    minimum = b[0]\n",
    "    j = 1\n",
    "    while j<49:\n",
    "        if b[j]<minimum:\n",
    "            minimum = b[j]\n",
    "        j = j+1\n",
    "    values = 0\n",
    "    for values in range(49):\n",
    "        if b[values] == minimum:\n",
    "            break\n",
    "    maximum = b[0]\n",
    "    j = 1\n",
    "    while j<49:\n",
    "        if b[j]>maximum:\n",
    "            maximum = b[j]\n",
    "        j = j+1\n",
    "    value = 0\n",
    "    for value in range(49):\n",
    "        if b[value] == maximum:\n",
    "            break\n",
    "    print(\"Least Net Profit Per Quantity: \"+a[values]+\" with the score of \"+str(b[values]))\n",
    "    category_(category,a[values])\n",
    "    print(\"Most Net Profit Per Quantity: \"+a[value]+\" with the score of \"+str(b[value]))\n",
    "    category_(category,a[value])\n",
    "    plt.plot(b,a,'bo')\n",
    "    plt.rcParams['figure.figsize'] = (10,20)"
   ]
  },
  {
   "cell_type": "markdown",
   "metadata": {},
   "source": [
    "# Below is the overview of the entire category, and plot of Net Profit per Quantity to the Individual States "
   ]
  },
  {
   "cell_type": "code",
   "execution_count": 38,
   "metadata": {},
   "outputs": [
    {
     "name": "stderr",
     "output_type": "stream",
     "text": [
      "C:\\Users\\Abhay\\Documents\\New folder\\lib\\site-packages\\ipykernel_launcher.py:9: RuntimeWarning: invalid value encountered in double_scalars\n",
      "  if __name__ == '__main__':\n"
     ]
    },
    {
     "name": "stdout",
     "output_type": "stream",
     "text": [
      "Least Net Profit Per Quantity: Texas with the score of -8.083794432361897\n",
      "Binders       153\n",
      "Paper         147\n",
      "Storage        83\n",
      "Art            71\n",
      "Appliances     47\n",
      "Envelopes      30\n",
      "Labels         30\n",
      "Fasteners      24\n",
      "Supplies       19\n",
      "Name: Sub-Category, dtype: int64\n",
      "Most Net Profit Per Quantity: Minnesota with the score of 32.28423029045643\n",
      "Binders       16\n",
      "Storage       14\n",
      "Paper         11\n",
      "Appliances     6\n",
      "Art            6\n",
      "Labels         6\n",
      "Envelopes      2\n",
      "Fasteners      2\n",
      "Supplies       1\n",
      "Name: Sub-Category, dtype: int64\n"
     ]
    },
    {
     "data": {
      "image/png": "[encoded data removed]",
      "text/plain": [
       "<matplotlib.figure.Figure at 0x28c7e29d390>"
      ]
     },
     "metadata": {},
     "output_type": "display_data"
    }
   ],
   "source": [
    "category_overview(\"Office Supplies\")"
   ]
  },
  {
   "cell_type": "code",
   "execution_count": 39,
   "metadata": {},
   "outputs": [
    {
     "name": "stderr",
     "output_type": "stream",
     "text": [
      "C:\\Users\\Abhay\\Documents\\New folder\\lib\\site-packages\\ipykernel_launcher.py:9: RuntimeWarning: invalid value encountered in double_scalars\n",
      "  if __name__ == '__main__':\n"
     ]
    },
    {
     "name": "stdout",
     "output_type": "stream",
     "text": [
      "Least Net Profit Per Quantity: West Virginia with the score of -25.6512\n",
      "Tables    1\n",
      "Name: Sub-Category, dtype: int64\n",
      "Most Net Profit Per Quantity: Vermont with the score of 148.990875\n",
      "Chairs       1\n",
      "Bookcases    1\n",
      "Name: Sub-Category, dtype: int64\n"
     ]
    },
    {
     "data": {
      "image/png": "[encoded data removed]",
      "text/plain": [
       "<matplotlib.figure.Figure at 0x28c7de32a58>"
      ]
     },
     "metadata": {},
     "output_type": "display_data"
    }
   ],
   "source": [
    "category_overview(\"Furniture\")"
   ]
  },
  {
   "cell_type": "code",
   "execution_count": null,
   "metadata": {},
   "outputs": [],
   "source": []
  }
 ],
 "metadata": {
  "kernelspec": {
   "display_name": "Python 3",
   "language": "python",
   "name": "python3"
  },
  "language_info": {
   "codemirror_mode": {
    "name": "ipython",
    "version": 3
   },
   "file_extension": ".py",
   "mimetype": "text/x-python",
   "name": "python",
   "nbconvert_exporter": "python",
   "pygments_lexer": "ipython3",
   "version": "3.6.4"
  }
 },
 "nbformat": 4,
 "nbformat_minor": 2
}
